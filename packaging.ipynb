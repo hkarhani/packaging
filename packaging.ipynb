{
 "cells": [
  {
   "cell_type": "markdown",
   "metadata": {
    "slideshow": {
     "slide_type": "slide"
    }
   },
   "source": [
    "<img src=\"http://hilpisch.com/tpq_logo.png\" alt=\"The Python Quants\" width=\"35%\" align=\"right\" border=\"0\"><br>"
   ]
  },
  {
   "cell_type": "markdown",
   "metadata": {},
   "source": [
    "# Python Packaging"
   ]
  },
  {
   "cell_type": "markdown",
   "metadata": {},
   "source": [
    "### The Basics"
   ]
  },
  {
   "cell_type": "markdown",
   "metadata": {},
   "source": [
    "Dr. Yves J. Hilpisch\n",
    "\n",
    "The Python Quants GmbH\n",
    "\n",
    "<a href='http://tpq.io'>http://tpq.io</a> | <a href='mailto:training@tpq.io'>training@tpq.io</a>"
   ]
  },
  {
   "cell_type": "markdown",
   "metadata": {
    "slideshow": {
     "slide_type": "slide"
    }
   },
   "source": [
    "## Agenda"
   ]
  },
  {
   "cell_type": "markdown",
   "metadata": {
    "slideshow": {
     "slide_type": "subslide"
    }
   },
   "source": [
    "* Import system and package structure\n",
    "* Installation of a package\n",
    "* Distribution of a package via PyPI"
   ]
  },
  {
   "cell_type": "markdown",
   "metadata": {
    "slideshow": {
     "slide_type": "slide"
    }
   },
   "source": [
    "## Import System and Package Structure"
   ]
  },
  {
   "cell_type": "markdown",
   "metadata": {
    "slideshow": {
     "slide_type": "subslide"
    }
   },
   "source": [
    "Python's import system is explained here https://docs.python.org/3/reference/import.html. We illustrate it on the basis of a really simple example and a more complex one."
   ]
  },
  {
   "cell_type": "markdown",
   "metadata": {
    "slideshow": {
     "slide_type": "subslide"
    }
   },
   "source": [
    "### Simple Package Example"
   ]
  },
  {
   "cell_type": "markdown",
   "metadata": {
    "slideshow": {
     "slide_type": "subslide"
    }
   },
   "source": [
    "The simple \"package\" consists of three main files. One file `mod.py` on the highest level and one file in each of the two sub-folders."
   ]
  },
  {
   "cell_type": "code",
   "execution_count": 24,
   "metadata": {},
   "outputs": [
    {
     "name": "stdout",
     "output_type": "stream",
     "text": [
      "pylib\r\n",
      "├── __init__.py\r\n",
      "├── __pycache__\r\n",
      "│   ├── __init__.cpython-36.pyc\r\n",
      "│   └── mod.cpython-36.pyc\r\n",
      "├── mod.py\r\n",
      "├── suba\r\n",
      "│   ├── __init__.py\r\n",
      "│   ├── __pycache__\r\n",
      "│   │   ├── __init__.cpython-36.pyc\r\n",
      "│   │   └── two.cpython-36.pyc\r\n",
      "│   └── two.py\r\n",
      "└── subb\r\n",
      "    ├── __init__.py\r\n",
      "    ├── __pycache__\r\n",
      "    │   ├── __init__.cpython-36.pyc\r\n",
      "    │   └── three.cpython-36.pyc\r\n",
      "    └── three.py\r\n",
      "\r\n",
      "5 directories, 12 files\r\n"
     ]
    }
   ],
   "source": [
    "!tree pylib"
   ]
  },
  {
   "cell_type": "markdown",
   "metadata": {
    "slideshow": {
     "slide_type": "subslide"
    }
   },
   "source": [
    "The files are all simple and short ..."
   ]
  },
  {
   "cell_type": "code",
   "execution_count": 5,
   "metadata": {},
   "outputs": [
    {
     "name": "stdout",
     "output_type": "stream",
     "text": [
      "#\r\n",
      "# pylib Example\r\n",
      "#\r\n",
      "def one(x):\r\n",
      "    return x"
     ]
    }
   ],
   "source": [
    "!cat pylib/mod.py"
   ]
  },
  {
   "cell_type": "code",
   "execution_count": 6,
   "metadata": {},
   "outputs": [
    {
     "name": "stdout",
     "output_type": "stream",
     "text": [
      "#\r\n",
      "# pylib Example\r\n",
      "#\r\n",
      "def two(x):\r\n",
      "    return 2 * x"
     ]
    }
   ],
   "source": [
    "!cat pylib/suba/two.py"
   ]
  },
  {
   "cell_type": "code",
   "execution_count": 7,
   "metadata": {},
   "outputs": [
    {
     "name": "stdout",
     "output_type": "stream",
     "text": [
      "#\r\n",
      "# pylib Example\r\n",
      "#\r\n",
      "def three(x):\r\n",
      "    return 3 * x"
     ]
    }
   ],
   "source": [
    "!cat pylib/subb/three.py"
   ]
  },
  {
   "cell_type": "markdown",
   "metadata": {
    "slideshow": {
     "slide_type": "subslide"
    }
   },
   "source": [
    "The `__init__.py` files in the folders:"
   ]
  },
  {
   "cell_type": "code",
   "execution_count": 8,
   "metadata": {},
   "outputs": [
    {
     "name": "stdout",
     "output_type": "stream",
     "text": [
      "#\r\n",
      "# pylib Example\r\n",
      "#\r\n",
      "__all__ = ['one', 'two', 'three']\r\n",
      "from .mod import one\r\n",
      "from .suba import two\r\n",
      "from .subb import three"
     ]
    }
   ],
   "source": [
    "!cat pylib/__init__.py"
   ]
  },
  {
   "cell_type": "code",
   "execution_count": 9,
   "metadata": {},
   "outputs": [
    {
     "name": "stdout",
     "output_type": "stream",
     "text": [
      "#\r\n",
      "# pylib Example\r\n",
      "#\r\n",
      "from .two import two"
     ]
    }
   ],
   "source": [
    "!cat pylib/suba/__init__.py"
   ]
  },
  {
   "cell_type": "code",
   "execution_count": 10,
   "metadata": {},
   "outputs": [
    {
     "name": "stdout",
     "output_type": "stream",
     "text": [
      "#\r\n",
      "# pylib Example\r\n",
      "#\r\n",
      "from .three import three"
     ]
    }
   ],
   "source": [
    "!cat pylib/subb/__init__.py"
   ]
  },
  {
   "cell_type": "markdown",
   "metadata": {
    "slideshow": {
     "slide_type": "subslide"
    }
   },
   "source": [
    "This packaging structure allows us to do the usual imports."
   ]
  },
  {
   "cell_type": "code",
   "execution_count": 11,
   "metadata": {},
   "outputs": [],
   "source": [
    "import pylib"
   ]
  },
  {
   "cell_type": "code",
   "execution_count": 12,
   "metadata": {
    "slideshow": {
     "slide_type": "fragment"
    }
   },
   "outputs": [
    {
     "data": {
      "text/plain": [
       "10"
      ]
     },
     "execution_count": 12,
     "metadata": {},
     "output_type": "execute_result"
    }
   ],
   "source": [
    "pylib.mod.one(10)"
   ]
  },
  {
   "cell_type": "code",
   "execution_count": 13,
   "metadata": {
    "slideshow": {
     "slide_type": "fragment"
    }
   },
   "outputs": [
    {
     "data": {
      "text/plain": [
       "40"
      ]
     },
     "execution_count": 13,
     "metadata": {},
     "output_type": "execute_result"
    }
   ],
   "source": [
    "pylib.suba.two(20)"
   ]
  },
  {
   "cell_type": "code",
   "execution_count": 14,
   "metadata": {
    "slideshow": {
     "slide_type": "fragment"
    }
   },
   "outputs": [
    {
     "data": {
      "text/plain": [
       "90"
      ]
     },
     "execution_count": 14,
     "metadata": {},
     "output_type": "execute_result"
    }
   ],
   "source": [
    "pylib.subb.three(30)"
   ]
  },
  {
   "cell_type": "code",
   "execution_count": 15,
   "metadata": {},
   "outputs": [
    {
     "data": {
      "text/plain": [
       "15"
      ]
     },
     "execution_count": 15,
     "metadata": {},
     "output_type": "execute_result"
    }
   ],
   "source": [
    "pylib.one(15)"
   ]
  },
  {
   "cell_type": "code",
   "execution_count": 16,
   "metadata": {},
   "outputs": [
    {
     "data": {
      "text/plain": [
       "30"
      ]
     },
     "execution_count": 16,
     "metadata": {},
     "output_type": "execute_result"
    }
   ],
   "source": [
    "pylib.two(15)"
   ]
  },
  {
   "cell_type": "code",
   "execution_count": 17,
   "metadata": {},
   "outputs": [
    {
     "data": {
      "text/plain": [
       "45"
      ]
     },
     "execution_count": 17,
     "metadata": {},
     "output_type": "execute_result"
    }
   ],
   "source": [
    "pylib.three(15)"
   ]
  },
  {
   "cell_type": "markdown",
   "metadata": {
    "slideshow": {
     "slide_type": "subslide"
    }
   },
   "source": [
    "Star import is also possible."
   ]
  },
  {
   "cell_type": "code",
   "execution_count": 18,
   "metadata": {
    "slideshow": {
     "slide_type": "-"
    }
   },
   "outputs": [],
   "source": [
    "from pylib import *"
   ]
  },
  {
   "cell_type": "code",
   "execution_count": 19,
   "metadata": {
    "slideshow": {
     "slide_type": "fragment"
    }
   },
   "outputs": [
    {
     "data": {
      "text/plain": [
       "100"
      ]
     },
     "execution_count": 19,
     "metadata": {},
     "output_type": "execute_result"
    }
   ],
   "source": [
    "one(100)"
   ]
  },
  {
   "cell_type": "code",
   "execution_count": 20,
   "metadata": {
    "slideshow": {
     "slide_type": "fragment"
    }
   },
   "outputs": [
    {
     "data": {
      "text/plain": [
       "100"
      ]
     },
     "execution_count": 20,
     "metadata": {},
     "output_type": "execute_result"
    }
   ],
   "source": [
    "two(50)"
   ]
  },
  {
   "cell_type": "code",
   "execution_count": 21,
   "metadata": {
    "slideshow": {
     "slide_type": "fragment"
    }
   },
   "outputs": [
    {
     "data": {
      "text/plain": [
       "100.0"
      ]
     },
     "execution_count": 21,
     "metadata": {},
     "output_type": "execute_result"
    }
   ],
   "source": [
    "three(33 + 1/3)"
   ]
  },
  {
   "cell_type": "markdown",
   "metadata": {
    "slideshow": {
     "slide_type": "subslide"
    }
   },
   "source": [
    "### Packaging DX Analytics"
   ]
  },
  {
   "cell_type": "markdown",
   "metadata": {
    "slideshow": {
     "slide_type": "subslide"
    }
   },
   "source": [
    "This example is based on DX Analytics (see http://dx-analytics.com and http://github.com/yhilpisch/dx). The structure:"
   ]
  },
  {
   "cell_type": "code",
   "execution_count": 22,
   "metadata": {},
   "outputs": [
    {
     "name": "stdout",
     "output_type": "stream",
     "text": [
      "Cloning into 'dx'...\n",
      "warning: redirecting to https://github.com/yhilpisch/dx/\n",
      "remote: Counting objects: 55, done.\u001b[K\n",
      "remote: Compressing objects: 100% (42/42), done.\u001b[K\n",
      "remote: Total 55 (delta 17), reused 39 (delta 12), pack-reused 0\u001b[K\n",
      "Unpacking objects: 100% (55/55), done.\n"
     ]
    }
   ],
   "source": [
    "!git clone --depth=1 http://github.com/yhilpisch/dx"
   ]
  },
  {
   "cell_type": "code",
   "execution_count": 23,
   "metadata": {},
   "outputs": [
    {
     "name": "stdout",
     "output_type": "stream",
     "text": [
      "dx/dx\r\n",
      "├── __init__.py\r\n",
      "├── analytical\r\n",
      "│   ├── __init__.py\r\n",
      "│   ├── black_scholes_merton.py\r\n",
      "│   ├── jump_diffusion.py\r\n",
      "│   ├── stoch_vol_jump_diffusion.py\r\n",
      "│   └── stochastic_volatility.py\r\n",
      "├── frame.py\r\n",
      "├── license_agpl_3_0.txt\r\n",
      "├── models\r\n",
      "│   ├── __init__.py\r\n",
      "│   ├── geometric_brownian_motion.py\r\n",
      "│   ├── jump_diffusion.py\r\n",
      "│   ├── mean_reverting_diffusion.py\r\n",
      "│   ├── sabr_stochastic_volatility.py\r\n",
      "│   ├── simulation_class.py\r\n",
      "│   ├── square_root_diffusion.py\r\n",
      "│   ├── square_root_jump_diffusion.py\r\n",
      "│   ├── stoch_vol_jump_diffusion.py\r\n",
      "│   └── stochastic_volatility.py\r\n",
      "├── plot.py\r\n",
      "├── portfolio.py\r\n",
      "├── rates.py\r\n",
      "└── valuation\r\n",
      "    ├── __init__.py\r\n",
      "    ├── derivatives_portfolio.py\r\n",
      "    ├── multi_risk.py\r\n",
      "    ├── parallel_valuation.py\r\n",
      "    ├── single_risk.py\r\n",
      "    └── var_portfolio.py\r\n",
      "\r\n",
      "3 directories, 27 files\r\n"
     ]
    }
   ],
   "source": [
    "!tree dx/dx"
   ]
  },
  {
   "cell_type": "markdown",
   "metadata": {
    "slideshow": {
     "slide_type": "subslide"
    }
   },
   "source": [
    "Let us have a look at two `__init__.py` files. First, the one in sub-folder (sub-package) `simulation`."
   ]
  },
  {
   "cell_type": "code",
   "execution_count": 25,
   "metadata": {},
   "outputs": [
    {
     "name": "stdout",
     "output_type": "stream",
     "text": [
      "#\r\n",
      "# DX Analytics\r\n",
      "# Financial Analytics Library\r\n",
      "#\r\n",
      "# DX Analytics is a financial analytics library, mainly for\r\n",
      "# derviatives modeling and pricing by Monte Carlo simulation\r\n",
      "#\r\n",
      "# (c) Dr. Yves J. Hilpisch\r\n",
      "# The Python Quants GmbH\r\n",
      "#\r\n",
      "# This program is free software: you can redistribute it and/or modify\r\n",
      "# it under the terms of the GNU Affero General Public License as\r\n",
      "# published by the Free Software Foundation, either version 3 of the\r\n",
      "# License, or any later version.\r\n",
      "#\r\n",
      "# This program is distributed in the hope that it will be useful,\r\n",
      "# but WITHOUT ANY WARRANTY; without even the implied warranty of\r\n",
      "# MERCHANTABILITY or FITNESS FOR A PARTICULAR PURPOSE. See the\r\n",
      "# GNU Affero General Public License for more details.\r\n",
      "#\r\n",
      "# You should have received a copy of the GNU Affero General Public License\r\n",
      "# along with this program. If not, see http://www.gnu.org/licenses/.\r\n",
      "#\r\n",
      "from .single_risk import *\r\n",
      "from .multi_risk import *\r\n",
      "from .parallel_valuation import *\r\n",
      "from .derivatives_portfolio import *\r\n",
      "from .var_portfolio import *\r\n",
      "\r\n",
      "__all__ = ['valuation_class_single', 'valuation_mcs_european_single',\r\n",
      "           'valuation_mcs_american_single', 'valuation_class_multi',\r\n",
      "           'valuation_mcs_european_multi', 'valuation_mcs_american_multi',\r\n",
      "           'derivatives_position', 'derivatives_portfolio', 'var_portfolio',\r\n",
      "           'risk_report']"
     ]
    }
   ],
   "source": [
    "!cat dx/dx/valuation/__init__.py"
   ]
  },
  {
   "cell_type": "markdown",
   "metadata": {
    "slideshow": {
     "slide_type": "subslide"
    }
   },
   "source": [
    "Second, the top level one."
   ]
  },
  {
   "cell_type": "code",
   "execution_count": 26,
   "metadata": {},
   "outputs": [
    {
     "name": "stdout",
     "output_type": "stream",
     "text": [
      "#\r\n",
      "# DX Analytics\r\n",
      "# Financial Analytics Library\r\n",
      "#\r\n",
      "# DX Analytics is a financial analytics library, mainly for\r\n",
      "# derviatives modeling and pricing by Monte Carlo simulation\r\n",
      "#\r\n",
      "# (c) Dr. Yves J. Hilpisch\r\n",
      "# The Python Quants GmbH\r\n",
      "#\r\n",
      "# This program is free software: you can redistribute it and/or modify\r\n",
      "# it under the terms of the GNU Affero General Public License as\r\n",
      "# published by the Free Software Foundation, either version 3 of the\r\n",
      "# License, or any later version.\r\n",
      "#\r\n",
      "# This program is distributed in the hope that it will be useful,\r\n",
      "# but WITHOUT ANY WARRANTY; without even the implied warranty of\r\n",
      "# MERCHANTABILITY or FITNESS FOR A PARTICULAR PURPOSE. See the\r\n",
      "# GNU Affero General Public License for more details.\r\n",
      "#\r\n",
      "# You should have received a copy of the GNU Affero General Public License\r\n",
      "# along with this program. If not, see http://www.gnu.org/licenses/.\r\n",
      "#\r\n",
      "from .frame import *\r\n",
      "from .models import *\r\n",
      "from .valuation import *\r\n",
      "from .analytical import *\r\n",
      "from .portfolio import *\r\n",
      "from .plot import *\r\n",
      "from .rates import *\r\n"
     ]
    }
   ],
   "source": [
    "!cat dx/dx/__init__.py"
   ]
  },
  {
   "cell_type": "markdown",
   "metadata": {
    "slideshow": {
     "slide_type": "subslide"
    }
   },
   "source": [
    "This structure yields the desired behaviour for such a Python package. We start by defining a constant discount rate."
   ]
  },
  {
   "cell_type": "code",
   "execution_count": 27,
   "metadata": {},
   "outputs": [
    {
     "name": "stdout",
     "output_type": "stream",
     "text": [
      "/Users/yves/Dropbox/Program/skills/04_pack/dx\n"
     ]
    }
   ],
   "source": [
    "cd dx"
   ]
  },
  {
   "cell_type": "code",
   "execution_count": 28,
   "metadata": {
    "slideshow": {
     "slide_type": "-"
    }
   },
   "outputs": [],
   "source": [
    "import dx"
   ]
  },
  {
   "cell_type": "code",
   "execution_count": 29,
   "metadata": {
    "slideshow": {
     "slide_type": "fragment"
    }
   },
   "outputs": [],
   "source": [
    "sr = dx.constant_short_rate('sr', 0.05)"
   ]
  },
  {
   "cell_type": "markdown",
   "metadata": {
    "slideshow": {
     "slide_type": "subslide"
    }
   },
   "source": [
    "Second, a market environment for a risk factor."
   ]
  },
  {
   "cell_type": "code",
   "execution_count": 30,
   "metadata": {
    "slideshow": {
     "slide_type": "-"
    }
   },
   "outputs": [],
   "source": [
    "me = dx.market_environment('me', dx.dt.datetime.now())"
   ]
  },
  {
   "cell_type": "code",
   "execution_count": 31,
   "metadata": {
    "slideshow": {
     "slide_type": "fragment"
    }
   },
   "outputs": [],
   "source": [
    "me.add_constant('initial_value', 100.)\n",
    "me.add_constant('volatility', 0.2)\n",
    "me.add_constant('intial_date', me.pricing_date)\n",
    "me.add_constant('final_date', dx.dt.datetime(2019, 1, 31))\n",
    "me.add_curve('discount_curve', sr)\n",
    "me.add_constant('currency', 'EUR')\n",
    "me.add_constant('frequency', 'W')\n",
    "me.add_constant('paths', 100)"
   ]
  },
  {
   "cell_type": "markdown",
   "metadata": {
    "slideshow": {
     "slide_type": "subslide"
    }
   },
   "source": [
    "Third, the risk factor model itself."
   ]
  },
  {
   "cell_type": "code",
   "execution_count": 32,
   "metadata": {},
   "outputs": [],
   "source": [
    "gbm = dx.geometric_brownian_motion('gbm', me)"
   ]
  },
  {
   "cell_type": "code",
   "execution_count": 33,
   "metadata": {
    "slideshow": {
     "slide_type": "fragment"
    }
   },
   "outputs": [
    {
     "data": {
      "text/plain": [
       "array([[100.        , 100.        , 100.        ],\n",
       "       [106.16851902, 102.55094312,  95.82230687],\n",
       "       [105.1029259 , 100.99503821, 101.1205988 ],\n",
       "       [107.81193652, 100.54022092,  98.45250814],\n",
       "       [104.63559526,  96.96948485, 100.55749877],\n",
       "       [102.49403074,  97.0634257 ,  97.05801351],\n",
       "       [103.74781008,  93.05005728,  99.16475784],\n",
       "       [101.22239946,  90.27157432,  95.32345877],\n",
       "       [ 96.55615922,  90.15310957,  99.43905215],\n",
       "       [ 96.70160148,  92.30093265, 100.10222413],\n",
       "       [ 96.36838783,  95.94409107, 101.36437748],\n",
       "       [103.45674711,  95.52324597, 101.95337541],\n",
       "       [106.90627472,  94.78461152,  99.32934544],\n",
       "       [106.20290515,  97.49250603,  96.02069834],\n",
       "       [102.24602952,  98.85510398,  96.34457018],\n",
       "       [ 98.45743558, 100.25288749,  96.49517579],\n",
       "       [ 98.86169272, 100.26959322,  94.78646045],\n",
       "       [ 96.28897922,  91.9951235 ,  99.50105754],\n",
       "       [ 93.89392703,  90.55141423, 101.81226417],\n",
       "       [ 93.98324365,  88.08448836, 102.82485808],\n",
       "       [ 93.9429378 ,  85.52606705, 106.52224796],\n",
       "       [ 95.9673825 ,  86.55635118, 111.68486982],\n",
       "       [ 91.87081308,  83.73277899, 113.55716872],\n",
       "       [ 89.23001015,  84.78471363, 111.56748517],\n",
       "       [ 86.36843298,  83.93885456, 113.04717591],\n",
       "       [ 84.962876  ,  83.34324262, 112.72893877],\n",
       "       [ 80.56713292,  81.71541586, 116.61853248],\n",
       "       [ 80.85632693,  80.62321904, 111.43378208],\n",
       "       [ 82.55726272,  80.9711188 , 112.56640777],\n",
       "       [ 78.98542371,  82.51587878, 108.58021838],\n",
       "       [ 78.85209934,  85.86249345, 104.28230566],\n",
       "       [ 79.87874294,  84.92408915, 104.65160366]])"
      ]
     },
     "execution_count": 33,
     "metadata": {},
     "output_type": "execute_result"
    }
   ],
   "source": [
    "gbm.get_instrument_values()[:, :3]"
   ]
  },
  {
   "cell_type": "markdown",
   "metadata": {
    "slideshow": {
     "slide_type": "subslide"
    }
   },
   "source": [
    "Some paths visualized."
   ]
  },
  {
   "cell_type": "code",
   "execution_count": 34,
   "metadata": {},
   "outputs": [],
   "source": [
    "from pylab import plt\n",
    "plt.style.use('seaborn')\n",
    "%matplotlib inline"
   ]
  },
  {
   "cell_type": "code",
   "execution_count": 35,
   "metadata": {},
   "outputs": [
    {
     "data": {
      "image/png": "[encoded data removed]",
      "text/plain": [
       "<matplotlib.figure.Figure at 0x1122505f8>"
      ]
     },
     "metadata": {},
     "output_type": "display_data"
    }
   ],
   "source": [
    "dx.pd.DataFrame(gbm.instrument_values[:, :10], index=gbm.time_grid).plot(\n",
    "                figsize=(10, 6), legend=False);"
   ]
  },
  {
   "cell_type": "code",
   "execution_count": 36,
   "metadata": {},
   "outputs": [],
   "source": [
    "!cd .."
   ]
  },
  {
   "cell_type": "code",
   "execution_count": 37,
   "metadata": {},
   "outputs": [],
   "source": [
    "!rm -rf dx"
   ]
  },
  {
   "cell_type": "markdown",
   "metadata": {
    "slideshow": {
     "slide_type": "slide"
    }
   },
   "source": [
    "## Installation"
   ]
  },
  {
   "cell_type": "markdown",
   "metadata": {
    "slideshow": {
     "slide_type": "subslide"
    }
   },
   "source": [
    "Writing a `setup.py` script is explained here https://docs.python.org/3/distutils/setupscript.html. For our little example, such a script might look like:"
   ]
  },
  {
   "cell_type": "code",
   "execution_count": 38,
   "metadata": {},
   "outputs": [
    {
     "name": "stdout",
     "output_type": "stream",
     "text": [
      "#!/usr/bin/env python\r\n",
      "\r\n",
      "from setuptools import setup, find_packages\r\n",
      "\r\n",
      "DISTNAME = 'dx'\r\n",
      "\r\n",
      "setup(name=DISTNAME,\r\n",
      "        version='0.1',\r\n",
      "        packages=find_packages(include=['dx', 'dx.*']),\r\n",
      "        description='DX Analytics',\r\n",
      "        author='Dr. Yves Hilpisch',\r\n",
      "        author_email='dx@tpq.io',\r\n",
      "        url='http://dx-analytics.com/')\r\n"
     ]
    }
   ],
   "source": [
    "!cat setup.py"
   ]
  },
  {
   "cell_type": "code",
   "execution_count": 41,
   "metadata": {},
   "outputs": [
    {
     "name": "stdout",
     "output_type": "stream",
     "text": [
      "#\r\n",
      "# Setup file for\r\n",
      "# pylib example\r\n",
      "#\r\n",
      "# The Python Quants GmbH\r\n",
      "# \r\n",
      "from setuptools import setup\r\n",
      "\r\n",
      "with open('README.md', 'r') as f:\r\n",
      "    long_description = f.read()\r\n",
      "\r\n",
      "setup(name='pylib',\r\n",
      "      version='0.15',\r\n",
      "      description='pylib Tools & Skills',\r\n",
      "      long_description=long_description,\r\n",
      "      long_description_content_type='text/markdown',\r\n",
      "      author='Yves Hilpisch',\r\n",
      "      author_email='training@tpq.io',\r\n",
      "      url='http://certificate.tpq.io',\r\n",
      "      packages=['pylib', 'pylib.suba', 'pylib.subb'],\r\n",
      "      )\r\n"
     ]
    }
   ],
   "source": [
    "!cat setup.py"
   ]
  },
  {
   "cell_type": "markdown",
   "metadata": {
    "slideshow": {
     "slide_type": "subslide"
    }
   },
   "source": [
    "A standard tool for installing Python packages is `pip`. See the official documentation under https://packaging.python.org/installing/#use-pip-for-installing."
   ]
  },
  {
   "cell_type": "markdown",
   "metadata": {
    "slideshow": {
     "slide_type": "slide"
    }
   },
   "source": [
    "## Distribution"
   ]
  },
  {
   "cell_type": "markdown",
   "metadata": {
    "slideshow": {
     "slide_type": "subslide"
    }
   },
   "source": [
    "Once you have finished your project you might want to share it with the world. The means to this end is the `Python Packing Index (PyPI)`. See the **Python Packaging User Guide** under https://packaging.python.org/."
   ]
  },
  {
   "cell_type": "markdown",
   "metadata": {},
   "source": [
    "You can register an account for the test `PyPI` server under https://test.pypi.org/account/register/. You need to verify your email address before uploading any packages. For more details on Test `PyPI`, see https://packaging.python.org/guides/using-testpypi/."
   ]
  },
  {
   "cell_type": "markdown",
   "metadata": {
    "slideshow": {
     "slide_type": "subslide"
    }
   },
   "source": [
    "The files for our project would look like follows."
   ]
  },
  {
   "cell_type": "raw",
   "metadata": {},
   "source": [
    "cd .."
   ]
  },
  {
   "cell_type": "code",
   "execution_count": 42,
   "metadata": {},
   "outputs": [
    {
     "name": "stdout",
     "output_type": "stream",
     "text": [
      "[metadata]\r\n",
      "description-file = README.md\r\n"
     ]
    }
   ],
   "source": [
    "!cat setup.cfg"
   ]
  },
  {
   "cell_type": "code",
   "execution_count": 43,
   "metadata": {},
   "outputs": [
    {
     "name": "stdout",
     "output_type": "stream",
     "text": [
      "#\r\n",
      "# Setup file for\r\n",
      "# pylib example\r\n",
      "#\r\n",
      "# The Python Quants GmbH\r\n",
      "# \r\n",
      "from setuptools import setup\r\n",
      "\r\n",
      "with open('README.md', 'r') as f:\r\n",
      "    long_description = f.read()\r\n",
      "\r\n",
      "setup(name='pylib',\r\n",
      "      version='0.15',\r\n",
      "      description='pylib Tools & Skills',\r\n",
      "      long_description=long_description,\r\n",
      "      long_description_content_type='text/markdown',\r\n",
      "      author='Yves Hilpisch',\r\n",
      "      author_email='training@tpq.io',\r\n",
      "      url='http://certificate.tpq.io',\r\n",
      "      packages=['pylib', 'pylib.suba', 'pylib.subb'],\r\n",
      "      )\r\n"
     ]
    }
   ],
   "source": [
    "!cat setup.py"
   ]
  },
  {
   "cell_type": "code",
   "execution_count": 44,
   "metadata": {},
   "outputs": [
    {
     "name": "stdout",
     "output_type": "stream",
     "text": [
      "# pylib &mdash; Python Packaging\r\n",
      "\r\n",
      "This is the rather simplistic packaging example from the Tools & Skills class of The Python Quants.\r\n",
      "\r\n",
      "<br>\r\n",
      "\r\n",
      "<img src=\"http://hilpisch.com/images/finaince_visual_low.png\" width=300px>\r\n",
      "\r\n",
      "## Package\r\n",
      "\r\n",
      "The package contains a total of three simple Python files, two of which are in sub-folders/sub-packages, with a single function each.\r\n",
      "\r\n",
      "## Training\r\n",
      "\r\n",
      "In addition to the package files, the Git repository contains also other files used for the training session.\r\n",
      "\r\n",
      "## Tutorial\r\n",
      "\r\n",
      "### Environment\r\n",
      "\r\n",
      "On the shell, create an environment with `conda`:\r\n",
      "\r\n",
      "    conda create -n test-pylib pyton=3.6 ipython\r\n",
      "    conda activate test-pylib\r\n",
      "\r\n",
      "### Installation from Source\r\n",
      "\r\n",
      "Clone the Github repository to your local working folder:\r\n",
      "\r\n",
      "    git clone --depth=1 http://github.com/yhilpisch/packaging\r\n",
      "    \r\n",
      "Navigate to the repository folder and install the package:\r\n",
      "\r\n",
      "    cd packaging\r\n",
      "    python setup.py install\r\n",
      "\r\n",
      "### Installation via pip\r\n",
      "\r\n",
      "Alternatively, install the `pylib` package via\r\n",
      "\r",
      "\r\n",
      "    pip install --index-url https://test.pypi.org/simple/ pylib\r\n",
      "    \r\n",
      "### First Steps\r\n",
      "    \r\n",
      "Start a Python interactive session session and e.g. execute:\r\n",
      "\r\n",
      "    >>> import pylib\r\n",
      "    >>> pylib.one(10)\r\n",
      "    10\r\n",
      "    >>> pylib.two(20)\r\n",
      "    40\r\n",
      "    >>> pylib.three(3)\r\n",
      "    9\r\n",
      "\r\n",
      "## Copyright\r\n",
      "\r\n",
      "The material is copyright (c) Dr. Yves J. Hilpisch | The Python Quants GmbH. MIT License.\r\n"
     ]
    }
   ],
   "source": [
    "!cat README.md"
   ]
  },
  {
   "cell_type": "markdown",
   "metadata": {},
   "source": [
    "Now make sure to have the **required tools** installed (see https://packaging.python.org/tutorials/packaging-projects/):\n",
    "\n",
    "    pip install --upgrade setuptools wheel"
   ]
  },
  {
   "cell_type": "markdown",
   "metadata": {},
   "source": [
    "Then run this command in the package directory (where `setup.py` is located) to **build** the files required for distribution:\n",
    "\n",
    "    python setup.py sdist bdist_wheel"
   ]
  },
  {
   "cell_type": "markdown",
   "metadata": {},
   "source": [
    "This builds the distribution files and stores them in the current location.\n",
    "\n",
    "Next, install `Twine`:\n",
    "\n",
    "    pip install --upgrade twine"
   ]
  },
  {
   "cell_type": "markdown",
   "metadata": {},
   "source": [
    "After the build is successful and `Twine` is installed, execute:\n",
    "\n",
    "    twine upload --repository-url https://test.pypi.org/legacy/ dist/*\n",
    "\n",
    "You will be prompted for you username and password from the registration."
   ]
  },
  {
   "cell_type": "markdown",
   "metadata": {},
   "source": [
    "If everything is successful, you can afterwards **install the package** from the test `PyPI` server via\n",
    "\n",
    "    pip install --index-url https://test.pypi.org/simple/ pylib"
   ]
  },
  {
   "cell_type": "markdown",
   "metadata": {
    "slideshow": {
     "slide_type": "slide"
    }
   },
   "source": [
    "## Conclusions"
   ]
  },
  {
   "cell_type": "markdown",
   "metadata": {},
   "source": [
    "In conclusion, we can state the following:\n",
    "\n",
    "* larger projects should be structured as packages\n",
    "* these are then easily installed via a `setup.py` script\n",
    "* uploading packages to the Python Packaging Index for sharing \"with the world\" is generally straightfoward"
   ]
  },
  {
   "cell_type": "markdown",
   "metadata": {
    "slideshow": {
     "slide_type": "slide"
    }
   },
   "source": [
    "<img src=\"http://hilpisch.com/tpq_logo.png\" alt=\"The Python Quants\" width=\"35%\" align=\"right\" border=\"0\"><br>\n",
    "\n",
    "<a href=\"http://tpq.io\" target=\"_blank\">http://tpq.io</a> | <a href=\"http://twitter.com/dyjh\" target=\"_blank\">@dyjh</a> | <a href=\"mailto:training@tpq.io\">training@tpq.io</a>"
   ]
  }
 ],
 "metadata": {
  "anaconda-cloud": {},
  "kernelspec": {
   "display_name": "Python 3",
   "language": "python",
   "name": "python3"
  },
  "language_info": {
   "codemirror_mode": {
    "name": "ipython",
    "version": 3
   },
   "file_extension": ".py",
   "mimetype": "text/x-python",
   "name": "python",
   "nbconvert_exporter": "python",
   "pygments_lexer": "ipython3",
   "version": "3.6.6"
  }
 },
 "nbformat": 4,
 "nbformat_minor": 1
}
